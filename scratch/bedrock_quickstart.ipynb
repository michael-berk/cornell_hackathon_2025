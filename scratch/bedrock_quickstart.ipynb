{
 "cells": [
  {
   "cell_type": "code",
   "execution_count": 2,
   "metadata": {},
   "outputs": [
    {
     "name": "stdout",
     "output_type": "stream",
     "text": [
      "Requirement already satisfied: langchain in /Users/michael.berk/opt/anaconda3/envs/hackathon/lib/python3.9/site-packages (0.3.18)\n",
      "Requirement already satisfied: boto3 in /Users/michael.berk/opt/anaconda3/envs/hackathon/lib/python3.9/site-packages (1.36.16)\n",
      "Requirement already satisfied: langchain-core<1.0.0,>=0.3.34 in /Users/michael.berk/opt/anaconda3/envs/hackathon/lib/python3.9/site-packages (from langchain) (0.3.34)\n",
      "Requirement already satisfied: langchain-text-splitters<1.0.0,>=0.3.6 in /Users/michael.berk/opt/anaconda3/envs/hackathon/lib/python3.9/site-packages (from langchain) (0.3.6)\n",
      "Requirement already satisfied: langsmith<0.4,>=0.1.17 in /Users/michael.berk/opt/anaconda3/envs/hackathon/lib/python3.9/site-packages (from langchain) (0.3.7)\n",
      "Requirement already satisfied: pydantic<3.0.0,>=2.7.4 in /Users/michael.berk/opt/anaconda3/envs/hackathon/lib/python3.9/site-packages (from langchain) (2.10.6)\n",
      "Requirement already satisfied: SQLAlchemy<3,>=1.4 in /Users/michael.berk/opt/anaconda3/envs/hackathon/lib/python3.9/site-packages (from langchain) (2.0.38)\n",
      "Requirement already satisfied: requests<3,>=2 in /Users/michael.berk/opt/anaconda3/envs/hackathon/lib/python3.9/site-packages (from langchain) (2.32.3)\n",
      "Requirement already satisfied: PyYAML>=5.3 in /Users/michael.berk/opt/anaconda3/envs/hackathon/lib/python3.9/site-packages (from langchain) (6.0.2)\n",
      "Requirement already satisfied: aiohttp<4.0.0,>=3.8.3 in /Users/michael.berk/opt/anaconda3/envs/hackathon/lib/python3.9/site-packages (from langchain) (3.11.12)\n",
      "Requirement already satisfied: tenacity!=8.4.0,<10,>=8.1.0 in /Users/michael.berk/opt/anaconda3/envs/hackathon/lib/python3.9/site-packages (from langchain) (9.0.0)\n",
      "Requirement already satisfied: numpy<2,>=1.26.4 in /Users/michael.berk/opt/anaconda3/envs/hackathon/lib/python3.9/site-packages (from langchain) (1.26.4)\n",
      "Requirement already satisfied: async-timeout<5.0.0,>=4.0.0 in /Users/michael.berk/opt/anaconda3/envs/hackathon/lib/python3.9/site-packages (from langchain) (4.0.3)\n",
      "Requirement already satisfied: botocore<1.37.0,>=1.36.16 in /Users/michael.berk/opt/anaconda3/envs/hackathon/lib/python3.9/site-packages (from boto3) (1.36.16)\n",
      "Requirement already satisfied: jmespath<2.0.0,>=0.7.1 in /Users/michael.berk/opt/anaconda3/envs/hackathon/lib/python3.9/site-packages (from boto3) (1.0.1)\n",
      "Requirement already satisfied: s3transfer<0.12.0,>=0.11.0 in /Users/michael.berk/opt/anaconda3/envs/hackathon/lib/python3.9/site-packages (from boto3) (0.11.2)\n",
      "Requirement already satisfied: aiohappyeyeballs>=2.3.0 in /Users/michael.berk/opt/anaconda3/envs/hackathon/lib/python3.9/site-packages (from aiohttp<4.0.0,>=3.8.3->langchain) (2.4.6)\n",
      "Requirement already satisfied: aiosignal>=1.1.2 in /Users/michael.berk/opt/anaconda3/envs/hackathon/lib/python3.9/site-packages (from aiohttp<4.0.0,>=3.8.3->langchain) (1.3.2)\n",
      "Requirement already satisfied: attrs>=17.3.0 in /Users/michael.berk/opt/anaconda3/envs/hackathon/lib/python3.9/site-packages (from aiohttp<4.0.0,>=3.8.3->langchain) (25.1.0)\n",
      "Requirement already satisfied: frozenlist>=1.1.1 in /Users/michael.berk/opt/anaconda3/envs/hackathon/lib/python3.9/site-packages (from aiohttp<4.0.0,>=3.8.3->langchain) (1.5.0)\n",
      "Requirement already satisfied: multidict<7.0,>=4.5 in /Users/michael.berk/opt/anaconda3/envs/hackathon/lib/python3.9/site-packages (from aiohttp<4.0.0,>=3.8.3->langchain) (6.1.0)\n",
      "Requirement already satisfied: propcache>=0.2.0 in /Users/michael.berk/opt/anaconda3/envs/hackathon/lib/python3.9/site-packages (from aiohttp<4.0.0,>=3.8.3->langchain) (0.2.1)\n",
      "Requirement already satisfied: yarl<2.0,>=1.17.0 in /Users/michael.berk/opt/anaconda3/envs/hackathon/lib/python3.9/site-packages (from aiohttp<4.0.0,>=3.8.3->langchain) (1.18.3)\n",
      "Requirement already satisfied: python-dateutil<3.0.0,>=2.1 in /Users/michael.berk/opt/anaconda3/envs/hackathon/lib/python3.9/site-packages (from botocore<1.37.0,>=1.36.16->boto3) (2.9.0.post0)\n",
      "Requirement already satisfied: urllib3<1.27,>=1.25.4 in /Users/michael.berk/opt/anaconda3/envs/hackathon/lib/python3.9/site-packages (from botocore<1.37.0,>=1.36.16->boto3) (1.26.20)\n",
      "Requirement already satisfied: jsonpatch<2.0,>=1.33 in /Users/michael.berk/opt/anaconda3/envs/hackathon/lib/python3.9/site-packages (from langchain-core<1.0.0,>=0.3.34->langchain) (1.33)\n",
      "Requirement already satisfied: packaging<25,>=23.2 in /Users/michael.berk/opt/anaconda3/envs/hackathon/lib/python3.9/site-packages (from langchain-core<1.0.0,>=0.3.34->langchain) (24.2)\n",
      "Requirement already satisfied: typing-extensions>=4.7 in /Users/michael.berk/opt/anaconda3/envs/hackathon/lib/python3.9/site-packages (from langchain-core<1.0.0,>=0.3.34->langchain) (4.12.2)\n",
      "Requirement already satisfied: httpx<1,>=0.23.0 in /Users/michael.berk/opt/anaconda3/envs/hackathon/lib/python3.9/site-packages (from langsmith<0.4,>=0.1.17->langchain) (0.28.1)\n",
      "Requirement already satisfied: orjson<4.0.0,>=3.9.14 in /Users/michael.berk/opt/anaconda3/envs/hackathon/lib/python3.9/site-packages (from langsmith<0.4,>=0.1.17->langchain) (3.10.15)\n",
      "Requirement already satisfied: requests-toolbelt<2.0.0,>=1.0.0 in /Users/michael.berk/opt/anaconda3/envs/hackathon/lib/python3.9/site-packages (from langsmith<0.4,>=0.1.17->langchain) (1.0.0)\n",
      "Requirement already satisfied: zstandard<0.24.0,>=0.23.0 in /Users/michael.berk/opt/anaconda3/envs/hackathon/lib/python3.9/site-packages (from langsmith<0.4,>=0.1.17->langchain) (0.23.0)\n",
      "Requirement already satisfied: annotated-types>=0.6.0 in /Users/michael.berk/opt/anaconda3/envs/hackathon/lib/python3.9/site-packages (from pydantic<3.0.0,>=2.7.4->langchain) (0.7.0)\n",
      "Requirement already satisfied: pydantic-core==2.27.2 in /Users/michael.berk/opt/anaconda3/envs/hackathon/lib/python3.9/site-packages (from pydantic<3.0.0,>=2.7.4->langchain) (2.27.2)\n",
      "Requirement already satisfied: charset-normalizer<4,>=2 in /Users/michael.berk/opt/anaconda3/envs/hackathon/lib/python3.9/site-packages (from requests<3,>=2->langchain) (3.4.1)\n",
      "Requirement already satisfied: idna<4,>=2.5 in /Users/michael.berk/opt/anaconda3/envs/hackathon/lib/python3.9/site-packages (from requests<3,>=2->langchain) (3.10)\n",
      "Requirement already satisfied: certifi>=2017.4.17 in /Users/michael.berk/opt/anaconda3/envs/hackathon/lib/python3.9/site-packages (from requests<3,>=2->langchain) (2025.1.31)\n",
      "Requirement already satisfied: greenlet!=0.4.17 in /Users/michael.berk/opt/anaconda3/envs/hackathon/lib/python3.9/site-packages (from SQLAlchemy<3,>=1.4->langchain) (3.1.1)\n",
      "Requirement already satisfied: anyio in /Users/michael.berk/opt/anaconda3/envs/hackathon/lib/python3.9/site-packages (from httpx<1,>=0.23.0->langsmith<0.4,>=0.1.17->langchain) (4.8.0)\n",
      "Requirement already satisfied: httpcore==1.* in /Users/michael.berk/opt/anaconda3/envs/hackathon/lib/python3.9/site-packages (from httpx<1,>=0.23.0->langsmith<0.4,>=0.1.17->langchain) (1.0.7)\n",
      "Requirement already satisfied: h11<0.15,>=0.13 in /Users/michael.berk/opt/anaconda3/envs/hackathon/lib/python3.9/site-packages (from httpcore==1.*->httpx<1,>=0.23.0->langsmith<0.4,>=0.1.17->langchain) (0.14.0)\n",
      "Requirement already satisfied: jsonpointer>=1.9 in /Users/michael.berk/opt/anaconda3/envs/hackathon/lib/python3.9/site-packages (from jsonpatch<2.0,>=1.33->langchain-core<1.0.0,>=0.3.34->langchain) (3.0.0)\n",
      "Requirement already satisfied: six>=1.5 in /Users/michael.berk/opt/anaconda3/envs/hackathon/lib/python3.9/site-packages (from python-dateutil<3.0.0,>=2.1->botocore<1.37.0,>=1.36.16->boto3) (1.17.0)\n",
      "Requirement already satisfied: exceptiongroup>=1.0.2 in /Users/michael.berk/opt/anaconda3/envs/hackathon/lib/python3.9/site-packages (from anyio->httpx<1,>=0.23.0->langsmith<0.4,>=0.1.17->langchain) (1.2.2)\n",
      "Requirement already satisfied: sniffio>=1.1 in /Users/michael.berk/opt/anaconda3/envs/hackathon/lib/python3.9/site-packages (from anyio->httpx<1,>=0.23.0->langsmith<0.4,>=0.1.17->langchain) (1.3.1)\n",
      "Note: you may need to restart the kernel to use updated packages.\n"
     ]
    }
   ],
   "source": [
    "pip install langchain boto3\n"
   ]
  },
  {
   "cell_type": "code",
   "execution_count": 1,
   "metadata": {},
   "outputs": [],
   "source": [
    "AWS_PROFILE = \"default\"  # Change this to your AWS profile name  \n",
    "AWS_REGION = \"us-west-2\"  # Update to your region  \n",
    "KNOWLEDGE_BASE_ID = \"KXX0OZ3DZ4\"  \n",
    "MODEL_ID = \"anthropic.claude-3-5-sonnet-20241022-v2:0\"  # Claude 3.5 Sonnet Model  \n"
   ]
  },
  {
   "cell_type": "code",
   "execution_count": 13,
   "metadata": {},
   "outputs": [
    {
     "ename": "ImportError",
     "evalue": "cannot import name 'BedrockVectorSearch' from 'langchain.vectorstores' (/Users/michael.berk/opt/anaconda3/envs/hackathon/lib/python3.9/site-packages/langchain/vectorstores/__init__.py)",
     "output_type": "error",
     "traceback": [
      "\u001b[0;31m---------------------------------------------------------------------------\u001b[0m",
      "\u001b[0;31mImportError\u001b[0m                               Traceback (most recent call last)",
      "Cell \u001b[0;32mIn[13], line 3\u001b[0m\n\u001b[1;32m      1\u001b[0m \u001b[38;5;28;01mimport\u001b[39;00m\u001b[38;5;250m \u001b[39m\u001b[38;5;21;01mos\u001b[39;00m\n\u001b[1;32m      2\u001b[0m \u001b[38;5;28;01mfrom\u001b[39;00m\u001b[38;5;250m \u001b[39m\u001b[38;5;21;01mlangchain\u001b[39;00m\u001b[38;5;21;01m.\u001b[39;00m\u001b[38;5;21;01mchains\u001b[39;00m\u001b[38;5;250m \u001b[39m\u001b[38;5;28;01mimport\u001b[39;00m RetrievalQA\n\u001b[0;32m----> 3\u001b[0m \u001b[38;5;28;01mfrom\u001b[39;00m\u001b[38;5;250m \u001b[39m\u001b[38;5;21;01mlangchain\u001b[39;00m\u001b[38;5;21;01m.\u001b[39;00m\u001b[38;5;21;01mvectorstores\u001b[39;00m\u001b[38;5;250m \u001b[39m\u001b[38;5;28;01mimport\u001b[39;00m BedrockVectorSearch\n\u001b[1;32m      4\u001b[0m \u001b[38;5;28;01mfrom\u001b[39;00m\u001b[38;5;250m \u001b[39m\u001b[38;5;21;01mlangchain\u001b[39;00m\u001b[38;5;21;01m.\u001b[39;00m\u001b[38;5;21;01mllms\u001b[39;00m\u001b[38;5;250m \u001b[39m\u001b[38;5;28;01mimport\u001b[39;00m Bedrock\n\u001b[1;32m      6\u001b[0m \u001b[38;5;66;03m# Set AWS environment variables\u001b[39;00m\n",
      "\u001b[0;31mImportError\u001b[0m: cannot import name 'BedrockVectorSearch' from 'langchain.vectorstores' (/Users/michael.berk/opt/anaconda3/envs/hackathon/lib/python3.9/site-packages/langchain/vectorstores/__init__.py)"
     ]
    }
   ],
   "source": [
    "import os\n",
    "from langchain.chains import RetrievalQA\n",
    "from langchain.vectorstores import BedrockVectorSearch\n",
    "from langchain.llms import Bedrock\n",
    "\n",
    "# Set AWS environment variables\n",
    "os.environ[\"AWS_PROFILE\"] = \"default\"  # Use your AWS CLI profile\n",
    "os.environ[\"AWS_REGION\"] = \"us-west-2\"  # Specify the AWS region\n",
    "\n",
    "# Define the Bedrock Vector Search Index\n",
    "BEDROCK_VECTOR_INDEX = KNOWLEDGE_BASE_ID\n",
    "\n",
    "# Create Bedrock Vector Search Retriever\n",
    "vectorstore = BedrockVectorSearch(\n",
    "    index_name=BEDROCK_VECTOR_INDEX,\n",
    "    region=os.environ[\"AWS_REGION\"]\n",
    ")\n",
    "retriever = vectorstore.as_retriever()\n",
    "\n",
    "# Configure Bedrock LLM\n",
    "llm = Bedrock(\n",
    "    model_id=\"anthropic.claude-v2\",  # Replace with your desired Bedrock model\n",
    "    region_name=os.environ[\"AWS_REGION\"]\n",
    ")\n",
    "\n",
    "# Set Up Retrieval QA Chain\n",
    "qa_chain = RetrievalQA.from_chain_type(\n",
    "    llm=llm,\n",
    "    retriever=retriever,\n",
    "    return_source_documents=True\n",
    ")\n",
    "\n",
    "# Query the Bedrock Vector Search Index\n",
    "query = \"What is the most relevant information?\"\n",
    "result = qa_chain.run(query)\n",
    "\n",
    "# Print Results\n",
    "print(\"Answer:\", result['result'])\n",
    "print(\"\\nSource Documents:\", result['source_documents'])\n"
   ]
  },
  {
   "cell_type": "code",
   "execution_count": 9,
   "metadata": {},
   "outputs": [
    {
     "name": "stdout",
     "output_type": "stream",
     "text": [
      "Collecting langchain_aws\n",
      "  Downloading langchain_aws-0.2.12-py3-none-any.whl.metadata (3.2 kB)\n",
      "Requirement already satisfied: boto3>=1.35.74 in /Users/michael.berk/opt/anaconda3/envs/hackathon/lib/python3.9/site-packages (from langchain_aws) (1.36.16)\n",
      "Requirement already satisfied: langchain-core<0.4.0,>=0.3.27 in /Users/michael.berk/opt/anaconda3/envs/hackathon/lib/python3.9/site-packages (from langchain_aws) (0.3.34)\n",
      "Requirement already satisfied: numpy<2,>=1 in /Users/michael.berk/opt/anaconda3/envs/hackathon/lib/python3.9/site-packages (from langchain_aws) (1.26.4)\n",
      "Requirement already satisfied: pydantic<3,>=2 in /Users/michael.berk/opt/anaconda3/envs/hackathon/lib/python3.9/site-packages (from langchain_aws) (2.10.6)\n",
      "Requirement already satisfied: botocore<1.37.0,>=1.36.16 in /Users/michael.berk/opt/anaconda3/envs/hackathon/lib/python3.9/site-packages (from boto3>=1.35.74->langchain_aws) (1.36.16)\n",
      "Requirement already satisfied: jmespath<2.0.0,>=0.7.1 in /Users/michael.berk/opt/anaconda3/envs/hackathon/lib/python3.9/site-packages (from boto3>=1.35.74->langchain_aws) (1.0.1)\n",
      "Requirement already satisfied: s3transfer<0.12.0,>=0.11.0 in /Users/michael.berk/opt/anaconda3/envs/hackathon/lib/python3.9/site-packages (from boto3>=1.35.74->langchain_aws) (0.11.2)\n",
      "Requirement already satisfied: langsmith<0.4,>=0.1.125 in /Users/michael.berk/opt/anaconda3/envs/hackathon/lib/python3.9/site-packages (from langchain-core<0.4.0,>=0.3.27->langchain_aws) (0.3.7)\n",
      "Requirement already satisfied: tenacity!=8.4.0,<10.0.0,>=8.1.0 in /Users/michael.berk/opt/anaconda3/envs/hackathon/lib/python3.9/site-packages (from langchain-core<0.4.0,>=0.3.27->langchain_aws) (9.0.0)\n",
      "Requirement already satisfied: jsonpatch<2.0,>=1.33 in /Users/michael.berk/opt/anaconda3/envs/hackathon/lib/python3.9/site-packages (from langchain-core<0.4.0,>=0.3.27->langchain_aws) (1.33)\n",
      "Requirement already satisfied: PyYAML>=5.3 in /Users/michael.berk/opt/anaconda3/envs/hackathon/lib/python3.9/site-packages (from langchain-core<0.4.0,>=0.3.27->langchain_aws) (6.0.2)\n",
      "Requirement already satisfied: packaging<25,>=23.2 in /Users/michael.berk/opt/anaconda3/envs/hackathon/lib/python3.9/site-packages (from langchain-core<0.4.0,>=0.3.27->langchain_aws) (24.2)\n",
      "Requirement already satisfied: typing-extensions>=4.7 in /Users/michael.berk/opt/anaconda3/envs/hackathon/lib/python3.9/site-packages (from langchain-core<0.4.0,>=0.3.27->langchain_aws) (4.12.2)\n",
      "Requirement already satisfied: annotated-types>=0.6.0 in /Users/michael.berk/opt/anaconda3/envs/hackathon/lib/python3.9/site-packages (from pydantic<3,>=2->langchain_aws) (0.7.0)\n",
      "Requirement already satisfied: pydantic-core==2.27.2 in /Users/michael.berk/opt/anaconda3/envs/hackathon/lib/python3.9/site-packages (from pydantic<3,>=2->langchain_aws) (2.27.2)\n",
      "Requirement already satisfied: python-dateutil<3.0.0,>=2.1 in /Users/michael.berk/opt/anaconda3/envs/hackathon/lib/python3.9/site-packages (from botocore<1.37.0,>=1.36.16->boto3>=1.35.74->langchain_aws) (2.9.0.post0)\n",
      "Requirement already satisfied: urllib3<1.27,>=1.25.4 in /Users/michael.berk/opt/anaconda3/envs/hackathon/lib/python3.9/site-packages (from botocore<1.37.0,>=1.36.16->boto3>=1.35.74->langchain_aws) (1.26.20)\n",
      "Requirement already satisfied: jsonpointer>=1.9 in /Users/michael.berk/opt/anaconda3/envs/hackathon/lib/python3.9/site-packages (from jsonpatch<2.0,>=1.33->langchain-core<0.4.0,>=0.3.27->langchain_aws) (3.0.0)\n",
      "Requirement already satisfied: httpx<1,>=0.23.0 in /Users/michael.berk/opt/anaconda3/envs/hackathon/lib/python3.9/site-packages (from langsmith<0.4,>=0.1.125->langchain-core<0.4.0,>=0.3.27->langchain_aws) (0.28.1)\n",
      "Requirement already satisfied: orjson<4.0.0,>=3.9.14 in /Users/michael.berk/opt/anaconda3/envs/hackathon/lib/python3.9/site-packages (from langsmith<0.4,>=0.1.125->langchain-core<0.4.0,>=0.3.27->langchain_aws) (3.10.15)\n",
      "Requirement already satisfied: requests<3,>=2 in /Users/michael.berk/opt/anaconda3/envs/hackathon/lib/python3.9/site-packages (from langsmith<0.4,>=0.1.125->langchain-core<0.4.0,>=0.3.27->langchain_aws) (2.32.3)\n",
      "Requirement already satisfied: requests-toolbelt<2.0.0,>=1.0.0 in /Users/michael.berk/opt/anaconda3/envs/hackathon/lib/python3.9/site-packages (from langsmith<0.4,>=0.1.125->langchain-core<0.4.0,>=0.3.27->langchain_aws) (1.0.0)\n",
      "Requirement already satisfied: zstandard<0.24.0,>=0.23.0 in /Users/michael.berk/opt/anaconda3/envs/hackathon/lib/python3.9/site-packages (from langsmith<0.4,>=0.1.125->langchain-core<0.4.0,>=0.3.27->langchain_aws) (0.23.0)\n",
      "Requirement already satisfied: anyio in /Users/michael.berk/opt/anaconda3/envs/hackathon/lib/python3.9/site-packages (from httpx<1,>=0.23.0->langsmith<0.4,>=0.1.125->langchain-core<0.4.0,>=0.3.27->langchain_aws) (4.8.0)\n",
      "Requirement already satisfied: certifi in /Users/michael.berk/opt/anaconda3/envs/hackathon/lib/python3.9/site-packages (from httpx<1,>=0.23.0->langsmith<0.4,>=0.1.125->langchain-core<0.4.0,>=0.3.27->langchain_aws) (2025.1.31)\n",
      "Requirement already satisfied: httpcore==1.* in /Users/michael.berk/opt/anaconda3/envs/hackathon/lib/python3.9/site-packages (from httpx<1,>=0.23.0->langsmith<0.4,>=0.1.125->langchain-core<0.4.0,>=0.3.27->langchain_aws) (1.0.7)\n",
      "Requirement already satisfied: idna in /Users/michael.berk/opt/anaconda3/envs/hackathon/lib/python3.9/site-packages (from httpx<1,>=0.23.0->langsmith<0.4,>=0.1.125->langchain-core<0.4.0,>=0.3.27->langchain_aws) (3.10)\n",
      "Requirement already satisfied: h11<0.15,>=0.13 in /Users/michael.berk/opt/anaconda3/envs/hackathon/lib/python3.9/site-packages (from httpcore==1.*->httpx<1,>=0.23.0->langsmith<0.4,>=0.1.125->langchain-core<0.4.0,>=0.3.27->langchain_aws) (0.14.0)\n",
      "Requirement already satisfied: six>=1.5 in /Users/michael.berk/opt/anaconda3/envs/hackathon/lib/python3.9/site-packages (from python-dateutil<3.0.0,>=2.1->botocore<1.37.0,>=1.36.16->boto3>=1.35.74->langchain_aws) (1.17.0)\n",
      "Requirement already satisfied: charset-normalizer<4,>=2 in /Users/michael.berk/opt/anaconda3/envs/hackathon/lib/python3.9/site-packages (from requests<3,>=2->langsmith<0.4,>=0.1.125->langchain-core<0.4.0,>=0.3.27->langchain_aws) (3.4.1)\n",
      "Requirement already satisfied: exceptiongroup>=1.0.2 in /Users/michael.berk/opt/anaconda3/envs/hackathon/lib/python3.9/site-packages (from anyio->httpx<1,>=0.23.0->langsmith<0.4,>=0.1.125->langchain-core<0.4.0,>=0.3.27->langchain_aws) (1.2.2)\n",
      "Requirement already satisfied: sniffio>=1.1 in /Users/michael.berk/opt/anaconda3/envs/hackathon/lib/python3.9/site-packages (from anyio->httpx<1,>=0.23.0->langsmith<0.4,>=0.1.125->langchain-core<0.4.0,>=0.3.27->langchain_aws) (1.3.1)\n",
      "Downloading langchain_aws-0.2.12-py3-none-any.whl (96 kB)\n",
      "Installing collected packages: langchain_aws\n",
      "Successfully installed langchain_aws-0.2.12\n",
      "Note: you may need to restart the kernel to use updated packages.\n"
     ]
    }
   ],
   "source": [
    "pip install langchain_aws"
   ]
  },
  {
   "cell_type": "code",
   "execution_count": 12,
   "metadata": {},
   "outputs": [
    {
     "data": {
      "text/plain": [
       "[Document(metadata={'location': {'s3Location': {'uri': 's3://economics-pdf-files/w22655.txt'}, 'type': 'S3'}, 'score': 0.42291424, 'type': 'TEXT', 'source_metadata': {'x-amz-bedrock-kb-source-uri': 's3://economics-pdf-files/w22655.txt', 'x-amz-bedrock-kb-chunk-id': '1%3A0%3ATm0-55QBZ04LGeUXtRre', 'x-amz-bedrock-kb-data-source-id': 'JGQS3BEGG4'}}, page_content='1 1\\x00σ . (8) Using the CES expenditure function, equilibrium prices (4) and labor market clearing (7), the share of location n’s expenditure on goods produced in location i is πni = Mip1\\x00σ ni ∑k2N Mkp1\\x00σ nk = Li \\x10 dni wi Ai \\x111\\x00σ ∑k2N Lk \\x10 dnk wk Ak \\x111\\x00σ . (9) 17  The model therefore implies a “gravity equation” for goods trade, where the bilateral trade between locations n and i depends on both “bilateral resistance” (bilateral trade costs dni) and “multilateral resis- tance” (trade costs to all other locations k dnk), as in Anderson & Wincoop (2003). Together (8) and (9) imply that each location’s price index can be again written in terms of its trade share with itself, so Pn = σ σ \\x00 1 \\x12 Ln σFπnn \\x13 1 1\\x00σ wn An . (10) 3.4 Income and Population Mobility Expenditure on land in each location is redistributed lump sum to the workers residing in that location.'),\n",
       " Document(metadata={'location': {'s3Location': {'uri': 's3://economics-pdf-files/w22655.txt'}, 'type': 'S3'}, 'score': 0.4082461, 'type': 'TEXT', 'source_metadata': {'x-amz-bedrock-kb-source-uri': 's3://economics-pdf-files/w22655.txt', 'x-amz-bedrock-kb-chunk-id': '1%3A0%3AbW0-55QBZ04LGeUXtRre', 'x-amz-bedrock-kb-data-source-id': 'JGQS3BEGG4'}}, page_content='Hence, Bi = biΩη i , Ωi \\x11 S ∑ r=1 e\\x00ρτir \\x12 LRr Kr \\x13 , (25) where LRr/Kr is residence employment density per unit of land area; residential externalities decline with travel time (τir) through the iceberg factor e\\x00ρτir 2 (0, 1]; ρ determines their rate of spatial decay; and η controls their relative importance in overall residential amenities. Idiosyncratic preferences for each pair of residence location n and workplace location i are drawn from an independent Fr´echet distribution, F(znio) = e\\x00TnEiz\\x00ϵ nio, Tn, Ei > 0, ϵ > 1, (26) where the scale parameter Tn > 0 determines the average utility derived from living in location n; the scale parameter Ei determines the average utility derived from working in location i; and the shape parameter ϵ > 1 controls the dispersion of idiosyncratic utility.'),\n",
       " Document(metadata={'location': {'s3Location': {'uri': 's3://economics-pdf-files/w14723.txt'}, 'type': 'S3'}, 'score': 0.40068647, 'type': 'TEXT', 'source_metadata': {'x-amz-bedrock-kb-source-uri': 's3://economics-pdf-files/w14723.txt', 'x-amz-bedrock-kb-chunk-id': '1%3A0%3At5M-55QB3H43quHp1M6j', 'x-amz-bedrock-kb-data-source-id': 'JGQS3BEGG4'}}, page_content='0.378 0.472 0.524 0.567 0.453 (0.011) (0.016) (0.026) (0.036) (0.047) (0.073) (0.083) (0.099) (0.116) (0.157) [0.000] [0.000] [0.126] [0.269] [0.336] [0.155] [0.400] [0.243] [0.125] Two 0.526 0.440 0.375 0.391 0.450 0.607 0.586 0.589 0.440 0.225 (0.016) (0.023) (0.039) (0.055) (0.072) (0.110) (0.124) (0.144) (0.177) (0.246)   [0.075] [0.145] [0.253] [0.192] [0.245] [0.485] [0.367] [0.191] [0.134] Three 0.452 0.370 0.408 0.435 0.472 0.566 0.547 0.412 0.266 0.172'),\n",
       " Document(metadata={'location': {'s3Location': {'uri': 's3://economics-pdf-files/w14723.txt'}, 'type': 'S3'}, 'score': 0.3989745, 'type': 'TEXT', 'source_metadata': {'x-amz-bedrock-kb-source-uri': 's3://economics-pdf-files/w14723.txt', 'x-amz-bedrock-kb-chunk-id': '1%3A0%3As5M-55QB3H43quHp1M6j', 'x-amz-bedrock-kb-data-source-id': 'JGQS3BEGG4'}}, page_content='0.003] [0.047] [0.778] [0.821] [0.687] One 0.118 0.090 0.082 0.077 0.061 0.049 0.067 0.079 0.098 0.096 (0.006) (0.007) (0.008) (0.011) (0.013) (0.019) (0.022) (0.026) (0.029) (0.028) [0.000] [0.332] [0.423] [0.216] [0.543] [0.168] [0.436] [0.254] [0.935] Two 0.052 0.082 0.069 0.050 0.057 0.100 0.101 0.119 0.088 0.098 (0.008) (0.010) (0.013) (0.016) (0.020) (0.029) (0.033) (0.038) (0.044) (0.045) [0.000] [0.335] [0.371] [0.385] [')]"
      ]
     },
     "execution_count": 12,
     "metadata": {},
     "output_type": "execute_result"
    }
   ],
   "source": [
    "from langchain_aws.retrievers import AmazonKnowledgeBasesRetriever\n",
    "\n",
    "retriever = AmazonKnowledgeBasesRetriever(\n",
    "    knowledge_base_id=KNOWLEDGE_BASE_ID,\n",
    "    retrieval_config={\"vectorSearchConfiguration\": {\"numberOfResults\": 4}},\n",
    ")\n",
    "\n",
    "retriever.invoke(\"hi\")"
   ]
  },
  {
   "cell_type": "code",
   "execution_count": null,
   "metadata": {},
   "outputs": [],
   "source": []
  }
 ],
 "metadata": {
  "kernelspec": {
   "display_name": "hackathon",
   "language": "python",
   "name": "python3"
  },
  "language_info": {
   "codemirror_mode": {
    "name": "ipython",
    "version": 3
   },
   "file_extension": ".py",
   "mimetype": "text/x-python",
   "name": "python",
   "nbconvert_exporter": "python",
   "pygments_lexer": "ipython3",
   "version": "3.9.21"
  }
 },
 "nbformat": 4,
 "nbformat_minor": 2
}
